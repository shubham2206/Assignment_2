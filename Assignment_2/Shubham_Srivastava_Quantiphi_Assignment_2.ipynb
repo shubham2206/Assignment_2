{
 "cells": [
  {
   "cell_type": "code",
   "execution_count": 13,
   "metadata": {},
   "outputs": [
    {
     "name": "stdout",
     "output_type": "stream",
     "text": [
      "Final Cost is:  0.35905041818939165\n",
      "Mean squared error is: 0.6841668945599262\n"
     ]
    },
    {
     "data": {
      "image/png": "[encoded data removed]",
      "text/plain": [
       "<Figure size 432x288 with 1 Axes>"
      ]
     },
     "metadata": {
      "needs_background": "light"
     },
     "output_type": "display_data"
    }
   ],
   "source": [
    "import pandas as pd\n",
    "import numpy as np\n",
    "import matplotlib.pyplot as plt\n",
    "\n",
    "df1 = pd.read_csv(\"winequality-red.csv\",sep=';') # reading the csv and making df by separating at ;\n",
    "df2 = pd.read_csv(\"winequality-white.csv\", sep = ';')\n",
    "\n",
    "df = df1.append(df2) # joining the two dfs\n",
    "\n",
    "df = (df - df.mean())/df.std() # Scaling the df\n",
    "\n",
    "df.iloc[np.random.permutation(len(df))].reset_index(drop=True) # Shuffling the df for better prediction since we have joined two dfs.\n",
    "\n",
    "X_train = df.iloc[0:5200 ,0:11]\n",
    "X_test = df.iloc[5200:6497 ,0:11]\n",
    "ones = np.ones([X_train.shape[0],1])\n",
    "X_train = np.concatenate((ones,X_train),axis=1)\n",
    "\n",
    "y_train = df.iloc[0:5200 ,11:12].values #.values converts it from pandas.core.frame.DataFrame to numpy.ndarray\n",
    "y_test = df.iloc[5200:6497, 11:12]\n",
    "theta = np.zeros([1,12])\n",
    "\n",
    "# Setting hyper parameters\n",
    "alpha = 0.01\n",
    "iters = 1000\n",
    "\n",
    "def computeCost(X_train,y_train,theta):\n",
    "    to_be_summed = np.power(((np.dot(X_train,theta.T))-y_train),2)\n",
    "    return np.sum(to_be_summed)/(2 * len(X_train))\n",
    "\n",
    "def gradientDescent(X_train,y_train,theta,iters,alpha):\n",
    "    cost = np.zeros(iters)\n",
    "    for i in range(iters):\n",
    "        theta = theta - (alpha/len(X_train)) * np.sum(X_train * (np.dot(X_train,theta.T) - y_train), axis=0)\n",
    "        cost[i] = computeCost(X_train, y_train, theta)\n",
    "    \n",
    "    return theta,cost\n",
    "\n",
    "#running the gd and cost function\n",
    "g,cost = gradientDescent(X_train,y_train,theta,iters,alpha)\n",
    "\n",
    "finalCost = computeCost(X_train,y_train,g)\n",
    "print('Final Cost is: ',finalCost)\n",
    "\n",
    "from sklearn.metrics import mean_squared_error\n",
    "def model_predict(x_test,y_test,theta):\n",
    "    theta0 = theta[0][0]\n",
    "    theta1 = theta[0][1:]\n",
    "    theta1 = np.reshape(theta1,(x_test.shape[1],1))\n",
    "    y_pred = np.ones(x_test.shape[0])\n",
    "    y_pred = np.reshape(y_pred,(x_test.shape[0],1))\n",
    "    for i in range(0,len(x_test)):\n",
    "        x_test2 = np.array(x_test.iloc[i,:]).reshape(1,x_test.shape[1])\n",
    "        y_pred[i] = theta0 + np.dot(x_test2,theta1)\n",
    "    \n",
    "    y_test = np.reshape(y_test,(x_test.shape[0],1))\n",
    "    mse=mean_squared_error(y_test, y_pred)\n",
    "    \n",
    "    return mse\n",
    "\n",
    "mse = model_predict(X_test,y_test,g)\n",
    "print('Mean squared error is:', mse)\n",
    "\n",
    "def plotdata():\n",
    "\tcost1 = list(cost)\n",
    "\tn_iterations = [x for x in range(1,iters+1)]\n",
    "\tplt.plot(n_iterations, cost1)\n",
    "\tplt.xlabel('No. of iterations')\n",
    "\tplt.ylabel('Cost')\n",
    "\tplt.show()\n",
    "plotdata()"
   ]
  },
  {
   "cell_type": "code",
   "execution_count": null,
   "metadata": {},
   "outputs": [],
   "source": []
  }
 ],
 "metadata": {
  "kernelspec": {
   "display_name": "Python 3",
   "language": "python",
   "name": "python3"
  },
  "language_info": {
   "codemirror_mode": {
    "name": "ipython",
    "version": 3
   },
   "file_extension": ".py",
   "mimetype": "text/x-python",
   "name": "python",
   "nbconvert_exporter": "python",
   "pygments_lexer": "ipython3",
   "version": "3.7.3"
  }
 },
 "nbformat": 4,
 "nbformat_minor": 2
}
